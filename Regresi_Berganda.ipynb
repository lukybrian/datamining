{
  "nbformat": 4,
  "nbformat_minor": 0,
  "metadata": {
    "colab": {
      "name": "Regresi_Berganda.ipynb",
      "provenance": []
    },
    "kernelspec": {
      "name": "python3",
      "display_name": "Python 3"
    },
    "language_info": {
      "name": "python"
    }
  },
  "cells": [
    {
      "cell_type": "code",
      "metadata": {
        "colab": {
          "base_uri": "https://localhost:8080/",
          "height": 203
        },
        "id": "66eSvpJbs38R",
        "outputId": "a6b00961-ad71-4787-a742-f2f6b4b5cebb"
      },
      "source": [
        "import pandas as pd #mengimport pandas untuk membaca data file csv\n",
        "\n",
        "emas=pd.read_csv(\"goldx.csv\") #membaca file csv\n",
        "emas.head() #menampilkan data 5 baris pertama"
      ],
      "execution_count": 5,
      "outputs": [
        {
          "output_type": "execute_result",
          "data": {
            "text/html": [
              "<div>\n",
              "<style scoped>\n",
              "    .dataframe tbody tr th:only-of-type {\n",
              "        vertical-align: middle;\n",
              "    }\n",
              "\n",
              "    .dataframe tbody tr th {\n",
              "        vertical-align: top;\n",
              "    }\n",
              "\n",
              "    .dataframe thead th {\n",
              "        text-align: right;\n",
              "    }\n",
              "</style>\n",
              "<table border=\"1\" class=\"dataframe\">\n",
              "  <thead>\n",
              "    <tr style=\"text-align: right;\">\n",
              "      <th></th>\n",
              "      <th>Open</th>\n",
              "      <th>High</th>\n",
              "      <th>Low</th>\n",
              "      <th>Price</th>\n",
              "    </tr>\n",
              "  </thead>\n",
              "  <tbody>\n",
              "    <tr>\n",
              "      <th>0</th>\n",
              "      <td>1223.4</td>\n",
              "      <td>1223.4</td>\n",
              "      <td>1216.2</td>\n",
              "      <td>1216.6</td>\n",
              "    </tr>\n",
              "    <tr>\n",
              "      <th>1</th>\n",
              "      <td>1220.4</td>\n",
              "      <td>1228.1</td>\n",
              "      <td>1213.0</td>\n",
              "      <td>1223.7</td>\n",
              "    </tr>\n",
              "    <tr>\n",
              "      <th>2</th>\n",
              "      <td>1222.5</td>\n",
              "      <td>1223.9</td>\n",
              "      <td>1218.1</td>\n",
              "      <td>1221.3</td>\n",
              "    </tr>\n",
              "    <tr>\n",
              "      <th>3</th>\n",
              "      <td>1223.5</td>\n",
              "      <td>1226.8</td>\n",
              "      <td>1216.7</td>\n",
              "      <td>1222.2</td>\n",
              "    </tr>\n",
              "    <tr>\n",
              "      <th>4</th>\n",
              "      <td>1227.8</td>\n",
              "      <td>1227.8</td>\n",
              "      <td>1227.8</td>\n",
              "      <td>1225.3</td>\n",
              "    </tr>\n",
              "  </tbody>\n",
              "</table>\n",
              "</div>"
            ],
            "text/plain": [
              "     Open    High     Low   Price\n",
              "0  1223.4  1223.4  1216.2  1216.6\n",
              "1  1220.4  1228.1  1213.0  1223.7\n",
              "2  1222.5  1223.9  1218.1  1221.3\n",
              "3  1223.5  1226.8  1216.7  1222.2\n",
              "4  1227.8  1227.8  1227.8  1225.3"
            ]
          },
          "metadata": {
            "tags": []
          },
          "execution_count": 5
        }
      ]
    },
    {
      "cell_type": "code",
      "metadata": {
        "colab": {
          "base_uri": "https://localhost:8080/"
        },
        "id": "iyGhUTFo15QM",
        "outputId": "53ce8bf7-122a-4005-9a82-f5d45d700cdf"
      },
      "source": [
        "x=emas.iloc[:,0:3].values #mengambil kolom variabel input (Open, High, Low) ada 3 kolom\n",
        "y=emas.iloc[:,-1].values #mengambil kolom variabel output (Price) kolom terakhir\n",
        "\n",
        "print(x)\n",
        "print(y)"
      ],
      "execution_count": 6,
      "outputs": [
        {
          "output_type": "stream",
          "text": [
            "[[1223.4  1223.4  1216.2 ]\n",
            " [1220.4  1228.1  1213.  ]\n",
            " [1222.5  1223.9  1218.1 ]\n",
            " ...\n",
            " [ 527.88  534.5   527.88]\n",
            " [ 516.    517.8   510.4 ]\n",
            " [ 517.    517.    513.  ]]\n",
            "[1216.6 1223.7 1221.3 ...  533.6  517.8  515.5]\n"
          ],
          "name": "stdout"
        }
      ]
    },
    {
      "cell_type": "code",
      "metadata": {
        "id": "m6uCclfY2z0h"
      },
      "source": [
        "from sklearn.model_selection import train_test_split\n",
        "x_train, x_test, y_train, y_test = train_test_split(x,y, test_size = 0.2, random_state = 0) #membagi dataset menjadi data training dan testing"
      ],
      "execution_count": 7,
      "outputs": []
    },
    {
      "cell_type": "code",
      "metadata": {
        "colab": {
          "base_uri": "https://localhost:8080/"
        },
        "id": "gUP9I5jb3nrr",
        "outputId": "9f928dcd-47eb-4b91-ce37-65a9e56f8cd6"
      },
      "source": [
        "from sklearn.linear_model import LinearRegression\n",
        "regressor = LinearRegression() #membuat model\n",
        "regressor.fit(x_train, y_train) #melakukan training regresi linear berganda"
      ],
      "execution_count": 8,
      "outputs": [
        {
          "output_type": "execute_result",
          "data": {
            "text/plain": [
              "LinearRegression(copy_X=True, fit_intercept=True, n_jobs=None, normalize=False)"
            ]
          },
          "metadata": {
            "tags": []
          },
          "execution_count": 8
        }
      ]
    },
    {
      "cell_type": "code",
      "metadata": {
        "colab": {
          "base_uri": "https://localhost:8080/"
        },
        "id": "fnoM7sUZ4FV1",
        "outputId": "5f0b293d-6fa3-47a0-9423-ddcb339ef8c8"
      },
      "source": [
        "y_pred = regressor.predict(x_test) #melakukan prediksi harga emas\n",
        "print(y_pred)\n",
        "print(len(y_pred))"
      ],
      "execution_count": 9,
      "outputs": [
        {
          "output_type": "stream",
          "text": [
            "[ 343.72280233  306.95442932  332.7795544  ...  343.77322513 1338.14208982\n",
            " 1191.609491  ]\n",
            "1955\n"
          ],
          "name": "stdout"
        }
      ]
    },
    {
      "cell_type": "code",
      "metadata": {
        "colab": {
          "base_uri": "https://localhost:8080/"
        },
        "id": "3pR_jFv34s-T",
        "outputId": "116fcdfb-79b7-43df-9797-92991b8a25ec"
      },
      "source": [
        "from sklearn.metrics import mean_squared_error\n",
        "mse = mean_squared_error(y_test, y_pred) #menghitung nilai error\n",
        "print('MSE: %f' % mse)"
      ],
      "execution_count": 10,
      "outputs": [
        {
          "output_type": "stream",
          "text": [
            "MSE: 10.999685\n"
          ],
          "name": "stdout"
        }
      ]
    },
    {
      "cell_type": "code",
      "metadata": {
        "colab": {
          "base_uri": "https://localhost:8080/"
        },
        "id": "oOpjyu555pny",
        "outputId": "75ab3512-67ce-44d9-fcb9-0ca25fedb2dc"
      },
      "source": [
        "beta=regressor.coef_ #menampilkan b1-b3 (koefisien)\n",
        "alpa=regressor.intercept_ #menampilkan b0 (konstanta)\n",
        "print(beta)\n",
        "print(alpa)"
      ],
      "execution_count": 11,
      "outputs": [
        {
          "output_type": "stream",
          "text": [
            "[-0.5710697   0.78096778  0.79051659]\n",
            "-0.11972299419323917\n"
          ],
          "name": "stdout"
        }
      ]
    },
    {
      "cell_type": "code",
      "metadata": {
        "id": "Yms-JkS_HxrV"
      },
      "source": [
        "#y' = b0 + b1*1 + b2*2 + b3*3 (variabel input ada 3 (Open, High, Low))"
      ],
      "execution_count": null,
      "outputs": []
    }
  ]
}