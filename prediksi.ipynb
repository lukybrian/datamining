{
  "nbformat": 4,
  "nbformat_minor": 0,
  "metadata": {
    "colab": {
      "name": "prediksi.ipynb",
      "provenance": []
    },
    "kernelspec": {
      "name": "python3",
      "display_name": "Python 3"
    },
    "language_info": {
      "name": "python"
    }
  },
  "cells": [
    {
      "cell_type": "code",
      "metadata": {
        "id": "VooXGQ45gbIF"
      },
      "source": [
        "import matplotlib.pyplot as plt\n",
        "import numpy as np\n",
        "import pandas as pd\n",
        "from sklearn.cluster import KMeans"
      ],
      "execution_count": 9,
      "outputs": []
    },
    {
      "cell_type": "code",
      "metadata": {
        "colab": {
          "base_uri": "https://localhost:8080/"
        },
        "id": "xFmw72njh8ne",
        "outputId": "0bd9422c-d71c-4691-e8a3-ca1e555fc658"
      },
      "source": [
        "dataset = pd.read_csv('/content/prediksi.csv')\n",
        "dataset.keys()"
      ],
      "execution_count": 10,
      "outputs": [
        {
          "output_type": "execute_result",
          "data": {
            "text/plain": [
              "Index(['Tahun', 'Omset'], dtype='object')"
            ]
          },
          "metadata": {
            "tags": []
          },
          "execution_count": 10
        }
      ]
    },
    {
      "cell_type": "code",
      "metadata": {
        "colab": {
          "base_uri": "https://localhost:8080/",
          "height": 204
        },
        "id": "d_SbJ35ekHIN",
        "outputId": "df63e353-b891-41d9-e246-b229898d0946"
      },
      "source": [
        "dataku = pd.DataFrame(dataset)\n",
        "dataku.head()"
      ],
      "execution_count": 11,
      "outputs": [
        {
          "output_type": "execute_result",
          "data": {
            "text/html": [
              "<div>\n",
              "<style scoped>\n",
              "    .dataframe tbody tr th:only-of-type {\n",
              "        vertical-align: middle;\n",
              "    }\n",
              "\n",
              "    .dataframe tbody tr th {\n",
              "        vertical-align: top;\n",
              "    }\n",
              "\n",
              "    .dataframe thead th {\n",
              "        text-align: right;\n",
              "    }\n",
              "</style>\n",
              "<table border=\"1\" class=\"dataframe\">\n",
              "  <thead>\n",
              "    <tr style=\"text-align: right;\">\n",
              "      <th></th>\n",
              "      <th>Tahun</th>\n",
              "      <th>Omset</th>\n",
              "    </tr>\n",
              "  </thead>\n",
              "  <tbody>\n",
              "    <tr>\n",
              "      <th>0</th>\n",
              "      <td>2019</td>\n",
              "      <td>1750</td>\n",
              "    </tr>\n",
              "    <tr>\n",
              "      <th>1</th>\n",
              "      <td>2019</td>\n",
              "      <td>4200</td>\n",
              "    </tr>\n",
              "    <tr>\n",
              "      <th>2</th>\n",
              "      <td>2019</td>\n",
              "      <td>3800</td>\n",
              "    </tr>\n",
              "    <tr>\n",
              "      <th>3</th>\n",
              "      <td>2019</td>\n",
              "      <td>5500</td>\n",
              "    </tr>\n",
              "    <tr>\n",
              "      <th>4</th>\n",
              "      <td>2019</td>\n",
              "      <td>3200</td>\n",
              "    </tr>\n",
              "  </tbody>\n",
              "</table>\n",
              "</div>"
            ],
            "text/plain": [
              "   Tahun  Omset\n",
              "0   2019   1750\n",
              "1   2019   4200\n",
              "2   2019   3800\n",
              "3   2019   5500\n",
              "4   2019   3200"
            ]
          },
          "metadata": {
            "tags": []
          },
          "execution_count": 11
        }
      ]
    },
    {
      "cell_type": "code",
      "metadata": {
        "colab": {
          "base_uri": "https://localhost:8080/"
        },
        "id": "-qNqWBiBkvDX",
        "outputId": "3f118451-e624-46e2-c25b-c90a65f8f08c"
      },
      "source": [
        "x = np.asarray(dataset)\n",
        "print(x)"
      ],
      "execution_count": 12,
      "outputs": [
        {
          "output_type": "stream",
          "text": [
            "[[ 2019  1750]\n",
            " [ 2019  4200]\n",
            " [ 2019  3800]\n",
            " [ 2019  5500]\n",
            " [ 2019  3200]\n",
            " [ 2019  5450]\n",
            " [ 2019  5950]\n",
            " [ 2019  4100]\n",
            " [ 2019  6050]\n",
            " [ 2019  8500]\n",
            " [ 2019  9500]\n",
            " [ 2019  6050]\n",
            " [ 2019  8500]\n",
            " [ 2019  9500]\n",
            " [ 2019  8300]\n",
            " [ 2019  6500]\n",
            " [ 2019  8400]\n",
            " [ 2019  6000]\n",
            " [ 2019 10500]\n",
            " [ 2019  8500]]\n"
          ],
          "name": "stdout"
        }
      ]
    },
    {
      "cell_type": "code",
      "metadata": {
        "colab": {
          "base_uri": "https://localhost:8080/",
          "height": 295
        },
        "id": "_RWg7jTJlHj4",
        "outputId": "8937843a-8617-4b38-fba7-0d5d6d05c8eb"
      },
      "source": [
        "plt.scatter(x[:,0], x[:,1], label='True Position')\n",
        "plt.xlabel(\"Tahun\") \n",
        "plt.ylabel(\"Omset\")\n",
        "plt.title(\"Grafik Penyebaran Data Prediksi\")\n",
        "plt.show()"
      ],
      "execution_count": 13,
      "outputs": [
        {
          "output_type": "display_data",
          "data": {
            "image/png": "[encoded data removed]",
            "text/plain": [
              "<Figure size 432x288 with 1 Axes>"
            ]
          },
          "metadata": {
            "tags": [],
            "needs_background": "light"
          }
        }
      ]
    },
    {
      "cell_type": "code",
      "metadata": {
        "colab": {
          "base_uri": "https://localhost:8080/"
        },
        "id": "DbZ8bRX4lqHi",
        "outputId": "8e91347a-c447-434f-996d-435f17628904"
      },
      "source": [
        "kmeans = KMeans(n_clusters=2)\n",
        "kmeans.fit(x)\n",
        "print(kmeans.cluster_centers_)"
      ],
      "execution_count": 14,
      "outputs": [
        {
          "output_type": "stream",
          "text": [
            "[[2019.         8962.5       ]\n",
            " [2019.         4879.16666667]]\n"
          ],
          "name": "stdout"
        }
      ]
    },
    {
      "cell_type": "code",
      "metadata": {
        "colab": {
          "base_uri": "https://localhost:8080/",
          "height": 295
        },
        "id": "SsiqE-zSmhGf",
        "outputId": "3847971f-55f5-4363-e482-535336b38f88"
      },
      "source": [
        "plt.scatter(x[:,0], x[:,1], c=kmeans.labels_, cmap='rainbow')\n",
        "plt.xlabel(\"Tahun\")\n",
        "plt.ylabel(\"Omset\")\n",
        "plt.title(\"Grafik Hasil Klasterisasi Data Tahun dan Omset Prediksi\")\n",
        "plt.show()"
      ],
      "execution_count": 15,
      "outputs": [
        {
          "output_type": "display_data",
          "data": {
            "image/png": "[encoded data removed]",
            "text/plain": [
              "<Figure size 432x288 with 1 Axes>"
            ]
          },
          "metadata": {
            "tags": [],
            "needs_background": "light"
          }
        }
      ]
    },
    {
      "cell_type": "code",
      "metadata": {
        "colab": {
          "base_uri": "https://localhost:8080/",
          "height": 295
        },
        "id": "jQIQYFSUoft3",
        "outputId": "6939c948-5744-4242-d9ab-7b00020ed60b"
      },
      "source": [
        "plt.scatter(x[:,0], x[:,1], c=kmeans.labels_, cmap='rainbow')\n",
        "plt.scatter(kmeans.cluster_centers_[:,0], kmeans.cluster_centers_[:,1], color='black')\n",
        "plt.xlabel(\"Tahun\")\n",
        "plt.ylabel(\"Omset\")\n",
        "plt.title(\"Grafik Hasil Klasterisasi Data Tahun dan Omset Prediksi\")\n",
        "plt.show()"
      ],
      "execution_count": 16,
      "outputs": [
        {
          "output_type": "display_data",
          "data": {
            "image/png": "[encoded data removed]",
            "text/plain": [
              "<Figure size 432x288 with 1 Axes>"
            ]
          },
          "metadata": {
            "tags": [],
            "needs_background": "light"
          }
        }
      ]
    }
  ]
}